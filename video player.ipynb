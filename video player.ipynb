{
 "cells": [
  {
   "cell_type": "code",
   "execution_count": 4,
   "metadata": {},
   "outputs": [],
   "source": [
    "from tkinter import *\n",
    "from tkinter import ttk\n",
    "from tkinter import filedialog\n",
    "from tkinter import messagebox\n",
    "import cv2\n",
    "import PIL.Image,PIL.ImageTk\n"
   ]
  },
  {
   "cell_type": "code",
   "execution_count": null,
   "metadata": {},
   "outputs": [],
   "source": []
  },
  {
   "cell_type": "code",
   "execution_count": 6,
   "metadata": {},
   "outputs": [
    {
     "name": "stdout",
     "output_type": "stream",
     "text": [
      "D:/Movies/Spider-Man Far from Home_SMFFH19DAHC72HDRFD.HDX.mkv.mp4\n"
     ]
    }
   ],
   "source": [
    "class video:\n",
    "    def __init__(self):\n",
    "        self.root=Tk()\n",
    "        self.root.title('MY Player')\n",
    "        self.root.geometry('500x400')\n",
    "        self.pause=False\n",
    "        self.delay=15\n",
    "        \n",
    "        f=Frame(self.root)\n",
    "        f.pack(side=TOP,pady=5)\n",
    "        \n",
    "        bframe=Frame(self.root)\n",
    "        bframe.pack(side=BOTTOM,pady=5)\n",
    "        \n",
    "        self.canvas=Canvas(f)\n",
    "        self.canvas.pack()\n",
    "        \n",
    "        \n",
    "        self.b1=Button(bframe, text='Select',fg='yellow',bg='red',padx=30,pady=20,width=5,command=self.openFile)\n",
    "        self.b1.grid(row=0,column=0)\n",
    "        self.b2=Button(bframe, text='Play',fg='yellow',bg='red',padx=30,pady=20,width=5,command=self.playVideo)\n",
    "        self.b2.grid(row=0,column=1)\n",
    "        self.b3=Button(bframe, text='Pause',fg='yellow',bg='red',padx=30,pady=20,width=5,command=self.pauseVideo)\n",
    "        self.b3.grid(row=0,column=2)\n",
    "        self.b4=Button(bframe, text='Resume',fg='yellow',bg='red',padx=30,pady=20,width=5,command=self.resumeVideo)\n",
    "        self.b4.grid(row=0,column=3)\n",
    "        self.root.mainloop()\n",
    "    def openFile(self):\n",
    "        self.pause=False\n",
    "        self.filename=filedialog.askopenfilename(title=\"filename\",filetype=(('mp4 files','.*mp4'),(\"Avi files\",'*.avi')))\n",
    "        print(self.filename)\n",
    "        self.v=cv2.VideoCapture(self.filename)\n",
    "        self.width=self.v.get(cv2.CAP_PROP_FRAME_WIDTH)\n",
    "        self.height=self.v.get(cv2.CAP_PROP_FRAME_HEIGHT)\n",
    "        self.canvas.config(width=self.width,height=self.height)\n",
    "    def getFrame(self):\n",
    "        if self.v.isOpened():\n",
    "            b,f1=self.v.read()\n",
    "            return (b,cv2.cvtColor(f1,cv2.COLOR_BGR2RGB))\n",
    "    def playVideo(self):\n",
    "        b,f1=self.getFrame()\n",
    "        if b:\n",
    "            self.photo=PIL.ImageTk.PhotoImage(image=PIL.Image.fromarray(f1))\n",
    "            self.canvas.create_image(0,0,image=self.photo,anchor=NW)\n",
    "        if not self.pause:\n",
    "            self.root.after(self.delay,self.playVideo)\n",
    "    def pauseVideo(self):\n",
    "        self.pause=True\n",
    "    def resumeVideo(self):\n",
    "        self.pause=False\n",
    "        self.playVideo()\n",
    "            \n",
    "app=video()"
   ]
  },
  {
   "cell_type": "code",
   "execution_count": null,
   "metadata": {},
   "outputs": [],
   "source": []
  },
  {
   "cell_type": "code",
   "execution_count": null,
   "metadata": {},
   "outputs": [],
   "source": []
  }
 ],
 "metadata": {
  "kernelspec": {
   "display_name": "Python 3",
   "language": "python",
   "name": "python3"
  },
  "language_info": {
   "codemirror_mode": {
    "name": "ipython",
    "version": 3
   },
   "file_extension": ".py",
   "mimetype": "text/x-python",
   "name": "python",
   "nbconvert_exporter": "python",
   "pygments_lexer": "ipython3",
   "version": "3.7.1"
  }
 },
 "nbformat": 4,
 "nbformat_minor": 2
}
